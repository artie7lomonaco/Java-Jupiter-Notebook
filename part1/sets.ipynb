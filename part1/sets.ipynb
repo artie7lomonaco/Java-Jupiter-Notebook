{
 "cells": [
  {
   "cell_type": "code",
   "execution_count": null,
   "metadata": {},
   "outputs": [],
   "source": [
    "// run this cell to prevent Jupyter from displaying the null output cell\n",
    "com.twosigma.beakerx.kernel.Kernel.showNullExecutionResult = false;"
   ]
  },
  {
   "cell_type": "markdown",
   "metadata": {},
   "source": [
    "<a id=\"notebook_id\"></a>\n",
    "# Sets\n",
    "\n",
    "A Java `Set` is a kind of collection that cannot contain duplicate elements. A `Set` models the mathematical set abstraction and supports the mathematical operations of set union, intersection, and difference. In addition, sets support:\n",
    "\n",
    "* all of the `Collection` operations\n",
    "* search: sets can efficiently search for a specified element in the set\n",
    "* iteration: users can iterate over the elements of a list using an enhanced for loop\n",
    "\n",
    "The Java standard library provides two types of sets. The `HashSet` is usually the faster implementation but the order of the elements in the set is unpredictable. The `TreeSet` is usually the slower implementation but maintains its elements in sorted order.\n",
    "\n",
    "This notebook focuses on using `HashSet`."
   ]
  },
  {
   "cell_type": "markdown",
   "metadata": {},
   "source": [
    "## `Set` variables\n",
    "\n",
    "Like `List` and `ArrayList`, `Set` and `HashSet` are generic types parameterized by the element type. Declaring variables of type `Set` or `HashSet` can be done like so:"
   ]
  },
  {
   "cell_type": "code",
   "execution_count": null,
   "metadata": {},
   "outputs": [],
   "source": [
    "import java.util.Set;\n",
    "\n",
    "Set<Byte> byteSet;\n",
    "Set<Character> charSet;\n",
    "Set<Short> shortSet;\n",
    "Set<Integer> intSet;\n",
    "Set<Long> longSet;\n",
    "Set<Float> floatSet;\n",
    "Set<Double> doubleSet;\n",
    "Set<String> stringSet;"
   ]
  },
  {
   "cell_type": "markdown",
   "metadata": {},
   "source": [
    "## Creating a `HashSet`\n",
    "\n",
    "\n",
    "`HashSet` is a class which means that instances are created using the `new` operator and a constructor. The no-argument constructor creates an empty `HashSet`; for example:"
   ]
  },
  {
   "cell_type": "code",
   "execution_count": 1,
   "metadata": {},
   "outputs": [
    {
     "name": "stdout",
     "output_type": "stream",
     "text": [
      "set t : []\n"
     ]
    },
    {
     "data": {
      "text/plain": [
       "null"
      ]
     },
     "execution_count": 1,
     "metadata": {},
     "output_type": "execute_result"
    }
   ],
   "source": [
    "import java.util.Set;\n",
    "import java.util.HashSet;\n",
    "\n",
    "Set<Integer> t = new HashSet<>();\n",
    "System.out.println(\"set t : \"  + t);"
   ]
  },
  {
   "cell_type": "markdown",
   "metadata": {},
   "source": [
    "## The size of a set\n",
    "\n",
    "The size of a set is the number of elements in the set. A set created using the no-argument constructor is the empty set and has a size of zero. The size of a set is returned by the method `size`:"
   ]
  },
  {
   "cell_type": "code",
   "execution_count": 2,
   "metadata": {},
   "outputs": [
    {
     "name": "stdout",
     "output_type": "stream",
     "text": [
      "size: 0\n"
     ]
    },
    {
     "data": {
      "text/plain": [
       "null"
      ]
     },
     "execution_count": 2,
     "metadata": {},
     "output_type": "execute_result"
    }
   ],
   "source": [
    "import java.util.Set;\n",
    "import java.util.HashSet;\n",
    "\n",
    "Set<Integer> t = new HashSet<>();\n",
    "int sz = t.size();\n",
    "\n",
    "System.out.println(\"size: \" + sz);"
   ]
  },
  {
   "cell_type": "markdown",
   "metadata": {},
   "source": [
    "## Adding elements to a set\n",
    "\n",
    "After creating a set elements can be added to the set using the method `add`:"
   ]
  },
  {
   "cell_type": "code",
   "execution_count": 4,
   "metadata": {},
   "outputs": [
    {
     "name": "stdout",
     "output_type": "stream",
     "text": [
      "[Africa]\n",
      "[Africa, Antarctica]\n",
      "[Asia, Africa, Antarctica]\n",
      "[Asia, Africa, Antarctica, Australia]\n",
      "[Asia, Europe, Africa, Antarctica, Australia]\n",
      "[Asia, Europe, Africa, Antarctica, Australia, North America]\n",
      "[South America, Asia, Europe, Africa, Antarctica, Australia, North America]\n"
     ]
    },
    {
     "data": {
      "text/plain": [
       "null"
      ]
     },
     "execution_count": 4,
     "metadata": {},
     "output_type": "execute_result"
    }
   ],
   "source": [
    "import java.util.Set;\n",
    "import java.util.HashSet;\n",
    "\n",
    "Set<String> t = new HashSet<>();\n",
    "t.add(\"Africa\");\n",
    "System.out.println(t);\n",
    "\n",
    "t.add(\"Antarctica\");\n",
    "System.out.println(t);\n",
    "\n",
    "t.add(\"Asia\");\n",
    "System.out.println(t);\n",
    "\n",
    "t.add(\"Australia\");\n",
    "System.out.println(t);\n",
    "\n",
    "t.add(\"Europe\");\n",
    "System.out.println(t);\n",
    "\n",
    "t.add(\"North America\");\n",
    "System.out.println(t);\n",
    "\n",
    "t.add(\"South America\");\n",
    "System.out.println(t);"
   ]
  },
  {
   "cell_type": "markdown",
   "metadata": {},
   "source": [
    "Notice that a `HashSet` does not keep its elements arranged in any particular order. This is because the data structure underlying the implementation is designed to be fast and memory efficient and one of the compromises required is iteration order.\n",
    "\n",
    "A `TreeSet` will maintain its elements in sorted order where the sorting depends on the element type. It does so by sacrificing speed and requiring more memory than a `HashSet`."
   ]
  },
  {
   "cell_type": "code",
   "execution_count": 5,
   "metadata": {},
   "outputs": [
    {
     "name": "stdout",
     "output_type": "stream",
     "text": [
      "[Africa]\n",
      "[Africa, Antarctica]\n",
      "[Africa, Antarctica, Asia]\n",
      "[Africa, Antarctica, Asia, Australia]\n",
      "[Africa, Antarctica, Asia, Australia, Europe]\n",
      "[Africa, Antarctica, Asia, Australia, Europe, North America]\n",
      "[Africa, Antarctica, Asia, Australia, Europe, North America, South America]\n"
     ]
    },
    {
     "data": {
      "text/plain": [
       "null"
      ]
     },
     "execution_count": 5,
     "metadata": {},
     "output_type": "execute_result"
    }
   ],
   "source": [
    "import java.util.Set;\n",
    "import java.util.TreeSet;\n",
    "\n",
    "Set<String> t = new TreeSet<>();\n",
    "t.add(\"Africa\");\n",
    "System.out.println(t);\n",
    "\n",
    "t.add(\"Antarctica\");\n",
    "System.out.println(t);\n",
    "\n",
    "t.add(\"Asia\");\n",
    "System.out.println(t);\n",
    "\n",
    "t.add(\"Australia\");\n",
    "System.out.println(t);\n",
    "\n",
    "t.add(\"Europe\");\n",
    "System.out.println(t);\n",
    "\n",
    "t.add(\"North America\");\n",
    "System.out.println(t);\n",
    "\n",
    "t.add(\"South America\");\n",
    "System.out.println(t);"
   ]
  },
  {
   "cell_type": "markdown",
   "metadata": {},
   "source": [
    "A `LinkedHashSet` maintains its elements in insertion order (the order in which elements were added to the set). It is as fast as a `HashSet` but requires more memory."
   ]
  },
  {
   "cell_type": "code",
   "execution_count": 6,
   "metadata": {},
   "outputs": [
    {
     "name": "stdout",
     "output_type": "stream",
     "text": [
      "[Africa]\n",
      "[Africa, Antarctica]\n",
      "[Africa, Antarctica, Asia]\n",
      "[Africa, Antarctica, Asia, Australia]\n",
      "[Africa, Antarctica, Asia, Australia, Europe]\n",
      "[Africa, Antarctica, Asia, Australia, Europe, North America]\n",
      "[Africa, Antarctica, Asia, Australia, Europe, North America, South America]\n"
     ]
    },
    {
     "data": {
      "text/plain": [
       "null"
      ]
     },
     "execution_count": 6,
     "metadata": {},
     "output_type": "execute_result"
    }
   ],
   "source": [
    "import java.util.Set;\n",
    "import java.util.LinkedHashSet;\n",
    "\n",
    "Set<String> t = new LinkedHashSet<>();\n",
    "t.add(\"Africa\");\n",
    "System.out.println(t);\n",
    "\n",
    "t.add(\"Antarctica\");\n",
    "System.out.println(t);\n",
    "\n",
    "t.add(\"Asia\");\n",
    "System.out.println(t);\n",
    "\n",
    "t.add(\"Australia\");\n",
    "System.out.println(t);\n",
    "\n",
    "t.add(\"Europe\");\n",
    "System.out.println(t);\n",
    "\n",
    "t.add(\"North America\");\n",
    "System.out.println(t);\n",
    "\n",
    "t.add(\"South America\");\n",
    "System.out.println(t);"
   ]
  },
  {
   "cell_type": "markdown",
   "metadata": {},
   "source": [
    "`add` returns `true` if the element was added to the set and `false` otherwise. In particular, `add` will return `false` if the element already exists in the set."
   ]
  },
  {
   "cell_type": "code",
   "execution_count": 8,
   "metadata": {},
   "outputs": [
    {
     "name": "stdout",
     "output_type": "stream",
     "text": [
      "5 is a duplicate\n",
      "4 is a duplicate\n",
      "7 is a duplicate\n",
      "8 is a duplicate\n",
      "-9 is a duplicate\n",
      "-3 is a duplicate\n",
      "5 is a duplicate\n",
      "9 is a duplicate\n",
      "8 is a duplicate\n",
      "original list: [-5, 9, 8, 5, -9, 4, -3, 5, 4, 7, 7, -1, 2, 3, 10, 8, -8, -9, -3, 5, -7, 9, 8, 6, 1]\n",
      "unique values: [-9, -8, -7, -5, -3, -1, 1, 2, 3, 4, 5, 6, 7, 8, 9, 10]\n"
     ]
    },
    {
     "data": {
      "text/plain": [
       "null"
      ]
     },
     "execution_count": 8,
     "metadata": {},
     "output_type": "execute_result"
    }
   ],
   "source": [
    "%classpath add jar ../resources/jar/notes.jar\n",
    "\n",
    "import java.util.List;\n",
    "import java.util.Set;\n",
    "import java.util.TreeSet;\n",
    "\n",
    "import ca.queensu.cs.cisc124.notes.util.Utils;\n",
    "\n",
    "List<Integer> t = Utils.randomIntList(25, -10, 10 + 1);  // 25 random ints between -10 and 10\n",
    "\n",
    "// get the unique numbers in t\n",
    "Set<Integer> unique = new TreeSet<>();\n",
    "for (Integer elem : t) {\n",
    "    boolean addOK = unique.add(elem);\n",
    "    if (!addOK) {\n",
    "        System.out.println(elem + \" is a duplicate\");\n",
    "    }\n",
    "}\n",
    "System.out.println(\"original list: \" + t);\n",
    "System.out.println(\"unique values: \" + unique);"
   ]
  },
  {
   "cell_type": "markdown",
   "metadata": {},
   "source": [
    "Notice that sets are useful for detecting and removing duplicated elements. Furthermore, there is no need to write a loop to initialize a set from a list; there is a constructor that does that for you:"
   ]
  },
  {
   "cell_type": "code",
   "execution_count": 12,
   "metadata": {},
   "outputs": [
    {
     "name": "stdout",
     "output_type": "stream",
     "text": [
      "original list: [7, 3, -9, -8, -10, -2, -3, -5, -4, 3, 1, 8, -10, -7, 5, -1, -7, 7, -1, 8, 8, -6, 6, 5, -1]\n",
      "unique values: [-10, -9, -8, -7, -6, -5, -4, -3, -2, -1, 1, 3, 5, 6, 7, 8]\n"
     ]
    },
    {
     "data": {
      "text/plain": [
       "null"
      ]
     },
     "execution_count": 12,
     "metadata": {},
     "output_type": "execute_result"
    }
   ],
   "source": [
    "%classpath add jar ../resources/jar/notes.jar\n",
    "\n",
    "import java.util.List;\n",
    "import java.util.Set;\n",
    "import java.util.TreeSet;\n",
    "\n",
    "import ca.queensu.cs.cisc124.notes.util.Utils;\n",
    "\n",
    "List<Integer> t = Utils.randomIntList(25, -10, 10 + 1);  // 25 random ints between -10 and 10\n",
    "\n",
    "// get the unique numbers in t\n",
    "// notice the constructor accepts a Collection\n",
    "Set<Integer> unique = new TreeSet<>(t);\n",
    "\n",
    "System.out.println(\"original list: \" + t);\n",
    "System.out.println(\"unique values: \" + unique);"
   ]
  },
  {
   "cell_type": "markdown",
   "metadata": {},
   "source": [
    "If you want to modify the original list so that it contains only the unique elements then you can clear the list and add back all of the elements from the set:"
   ]
  },
  {
   "cell_type": "code",
   "execution_count": 13,
   "metadata": {},
   "outputs": [
    {
     "name": "stdout",
     "output_type": "stream",
     "text": [
      "original list: [1, -7, -5, -8, -8, 2, 4, -8, -4, -9, 10, -4, -9, -9, -2, 7, -5, -5, 2, -2, -9, 10, 3, -5, 6]\n",
      "modified list: [-9, -8, -7, -5, -4, -2, 1, 2, 3, 4, 6, 7, 10]\n"
     ]
    },
    {
     "data": {
      "text/plain": [
       "null"
      ]
     },
     "execution_count": 13,
     "metadata": {},
     "output_type": "execute_result"
    }
   ],
   "source": [
    "%classpath add jar ../resources/jar/notes.jar\n",
    "\n",
    "import java.util.List;\n",
    "import java.util.Set;\n",
    "import java.util.TreeSet;\n",
    "\n",
    "import ca.queensu.cs.cisc124.notes.util.Utils;\n",
    "\n",
    "List<Integer> t = Utils.randomIntList(25, -10, 10 + 1);  // 25 random ints between -10 and 10\n",
    "\n",
    "// get the unique numbers in t\n",
    "// notice the constructor accepts a Collection\n",
    "Set<Integer> unique = new TreeSet<>(t);\n",
    "\n",
    "System.out.println(\"original list: \" + t);\n",
    "\n",
    "t.clear();\n",
    "t.addAll(unique);\n",
    "\n",
    "System.out.println(\"modified list: \" + t);"
   ]
  },
  {
   "cell_type": "markdown",
   "metadata": {},
   "source": [
    "## Getting an element from a set\n",
    "\n",
    "There is no method that gets an element from a set because that operation is not part of the abstraction that a set provides. If you need to get an element using an index then you should be using a list. If you need to get an element using a key then you should be using a map."
   ]
  },
  {
   "cell_type": "markdown",
   "metadata": {},
   "source": [
    "## Iterating over the elements of a set\n",
    "\n",
    "Iterating over a set can be performed using an enhanced for loop or an iterator-based loop:"
   ]
  },
  {
   "cell_type": "code",
   "execution_count": 14,
   "metadata": {},
   "outputs": [
    {
     "name": "stdout",
     "output_type": "stream",
     "text": [
      "[MATH121, MATH112, BIOL102, CISC101, CISC102, BIOL103, CHEM112, CISC121]\n",
      "found a computing course: CISC101\n",
      "found a computing course: CISC102\n",
      "found a computing course: CISC121\n"
     ]
    },
    {
     "data": {
      "text/plain": [
       "null"
      ]
     },
     "execution_count": 14,
     "metadata": {},
     "output_type": "execute_result"
    }
   ],
   "source": [
    "%classpath add jar ../resources/jar/notes.jar\n",
    "\n",
    "import java.util.List;\n",
    "import java.util.Set;\n",
    "\n",
    "import ca.queensu.cs.cisc124.notes.util.Utils;\n",
    "\n",
    "Set<String> courses = Utils.setOf(\"CISC101\", \"CISC102\", \"CISC121\", \"MATH112\", \"MATH121\", \"BIOL102\", \"BIOL103\", \"CHEM112\");\n",
    "System.out.println(courses);\n",
    "\n",
    "// enhanced for loop\n",
    "for (String s : courses) {\n",
    "    if (s.startsWith(\"CISC\")) {\n",
    "        System.out.println(\"found a computing course: \" + s);\n",
    "    }\n",
    "}"
   ]
  },
  {
   "cell_type": "code",
   "execution_count": 15,
   "metadata": {},
   "outputs": [
    {
     "name": "stdout",
     "output_type": "stream",
     "text": [
      "[MATH121, MATH112, BIOL102, CISC101, CISC102, BIOL103, CHEM112, CISC121]\n",
      "found a non-computing course: MATH121\n",
      "found a non-computing course: MATH112\n",
      "found a non-computing course: BIOL102\n",
      "found a non-computing course: BIOL103\n",
      "found a non-computing course: CHEM112\n"
     ]
    },
    {
     "data": {
      "text/plain": [
       "null"
      ]
     },
     "execution_count": 15,
     "metadata": {},
     "output_type": "execute_result"
    }
   ],
   "source": [
    "%classpath add jar ../resources/jar/notes.jar\n",
    "\n",
    "import java.util.Iterator;\n",
    "import java.util.List;\n",
    "import java.util.Set;\n",
    "\n",
    "import ca.queensu.cs.cisc124.notes.util.Utils;\n",
    "\n",
    "Set<String> courses = Utils.setOf(\"CISC101\", \"CISC102\", \"CISC121\", \"MATH112\", \"MATH121\", \"BIOL102\", \"BIOL103\", \"CHEM112\");\n",
    "System.out.println(courses);\n",
    "\n",
    "// iterator-based loop\n",
    "for (Iterator<String> iter = courses.iterator(); iter.hasNext(); ) {\n",
    "    String s = iter.next();\n",
    "    if (!s.startsWith(\"CISC\")) {\n",
    "        System.out.println(\"found a non-computing course: \" + s);\n",
    "    }\n",
    "}"
   ]
  },
  {
   "cell_type": "markdown",
   "metadata": {},
   "source": [
    "## Searching a set for an element\n",
    "\n",
    "Searching a set is usually much faster than searching an unsorted list or array. Searching a `HashSet` has $O(1)$ expected complexity and searching a `TreeSet` has $O(\\log_2 n)$ complexity. The method `contains(Object o)` returns `true` if there is an element equal to `o` in the set and `false` otherwise."
   ]
  },
  {
   "cell_type": "code",
   "execution_count": 16,
   "metadata": {},
   "outputs": [
    {
     "name": "stdout",
     "output_type": "stream",
     "text": [
      "[MATH121, MATH112, BIOL102, CISC101, CISC102, BIOL103, CHEM112, CISC121]\n",
      "Should I take CISC121? true\n",
      "Should I take CISC151? false\n"
     ]
    },
    {
     "data": {
      "text/plain": [
       "null"
      ]
     },
     "execution_count": 16,
     "metadata": {},
     "output_type": "execute_result"
    }
   ],
   "source": [
    "%classpath add jar ../resources/jar/notes.jar\n",
    "\n",
    "import java.util.Iterator;\n",
    "import java.util.List;\n",
    "import java.util.Set;\n",
    "\n",
    "import ca.queensu.cs.cisc124.notes.util.Utils;\n",
    "\n",
    "Set<String> courses = Utils.setOf(\"CISC101\", \"CISC102\", \"CISC121\", \"MATH112\", \"MATH121\", \"BIOL102\", \"BIOL103\", \"CHEM112\");\n",
    "System.out.println(courses);\n",
    "\n",
    "// is CISC121 normally taken by Biomedical Computing Specialization students?\n",
    "boolean hasCourse = courses.contains(\"CISC121\");\n",
    "System.out.println(\"Should I take CISC121? \" + hasCourse);\n",
    "\n",
    "// is CISC151 normally taken by Biomedical Computing Specialization students?\n",
    "hasCourse = courses.contains(\"CISC151\");\n",
    "System.out.println(\"Should I take CISC151? \" + hasCourse);\n"
   ]
  },
  {
   "cell_type": "markdown",
   "metadata": {},
   "source": [
    "## Removing an element from a set\n",
    "\n",
    "The `remove(Object o)` removes the object `o` from the set if `o` is in the set; the set is unchanged if `o` is not in the set. `remove(Object o)` returns `true` if an element was removed from the list, and `false` otherwise. For example:"
   ]
  },
  {
   "cell_type": "code",
   "execution_count": 17,
   "metadata": {},
   "outputs": [
    {
     "name": "stdout",
     "output_type": "stream",
     "text": [
      "[Earth, Mars, Neptune, Jupiter, Saturn, Venus, Uranus, Mercury, Pluto]\n",
      "removed \"Pluto\"? : true\n",
      "[Earth, Mars, Neptune, Jupiter, Saturn, Venus, Uranus, Mercury]\n",
      "removed \"Eris\"? : false\n",
      "[Earth, Mars, Neptune, Jupiter, Saturn, Venus, Uranus, Mercury]\n"
     ]
    },
    {
     "data": {
      "text/plain": [
       "null"
      ]
     },
     "execution_count": 17,
     "metadata": {},
     "output_type": "execute_result"
    }
   ],
   "source": [
    "%classpath add jar ../resources/jar/notes.jar\n",
    "\n",
    "import java.util.Iterator;\n",
    "import java.util.List;\n",
    "import java.util.Set;\n",
    "\n",
    "import ca.queensu.cs.cisc124.notes.util.Utils;\n",
    "\n",
    "Set<String> planets = Utils.setOf(\"Mercury\", \"Venus\", \"Earth\", \"Mars\", \"Jupiter\", \"Saturn\", \"Uranus\", \"Neptune\", \"Pluto\");\n",
    "System.out.println(planets);\n",
    "\n",
    "// Pluto was re-classified as a dwarf planet in 2006 by the International Astronomical Union\n",
    "boolean rem = planets.remove(\"Pluto\");\n",
    "System.out.println(\"removed \\\"Pluto\\\"? : \" + rem);\n",
    "System.out.println(planets);\n",
    "\n",
    "// Eris was discovered in 2005 and is bigger than Pluto but was never considered a planet\n",
    "rem = planets.remove(\"Eris\");\n",
    "System.out.println(\"removed \\\"Eris\\\"? : \" + rem);\n",
    "System.out.println(planets);"
   ]
  },
  {
   "cell_type": "markdown",
   "metadata": {},
   "source": [
    "## Destructive filtering of a set\n",
    "\n",
    "Similar to lists, destructive filtering of a set must be performed using an iterator-based loop:"
   ]
  },
  {
   "cell_type": "markdown",
   "metadata": {},
   "source": [
    "## Set union\n",
    "\n",
    "The [union](https://en.wikipedia.org/wiki/Union_(set_theory)) of two sets $A$ and $B$ is the set containing all of the elements that are in $A$, in $B$, or in both $A$ and $B$, with duplicate elements included only once. For example, the union of the sets $\\{1, 2, 3\\}$ and $\\{3, 4, 5\\}$ is the set $\\{1, 2, 3, 4, 5\\}$. The method `addAll(Collection c)` computes the union of two sets by adding all of the elements of `c` to the set; because sets do not allow duplicate elements any elements common to both sets will be included in the union only once."
   ]
  },
  {
   "cell_type": "code",
   "execution_count": 18,
   "metadata": {},
   "outputs": [
    {
     "name": "stdout",
     "output_type": "stream",
     "text": [
      "s : [1, 2, 3]\n",
      "t : [3, 4, 5]\n",
      "s : [1, 2, 3, 4, 5]\n"
     ]
    },
    {
     "data": {
      "text/plain": [
       "null"
      ]
     },
     "execution_count": 18,
     "metadata": {},
     "output_type": "execute_result"
    }
   ],
   "source": [
    "import java.util.Set;\n",
    "import java.util.HashSet;\n",
    "\n",
    "Set<Integer> s = new HashSet<>();\n",
    "s.add(1);\n",
    "s.add(2);\n",
    "s.add(3);\n",
    "System.out.println(\"s : \" + s);\n",
    "\n",
    "Set<Integer> t = new HashSet<>();\n",
    "t.add(3);\n",
    "t.add(4);\n",
    "t.add(5);\n",
    "System.out.println(\"t : \" + t);\n",
    "\n",
    "// destructive union of s and t---modifies s\n",
    "s.addAll(t);\n",
    "System.out.println(\"s : \" + s);"
   ]
  },
  {
   "cell_type": "markdown",
   "metadata": {},
   "source": [
    "To perform a non-destructive union, copy one of the sets and perform the union using the copy:"
   ]
  },
  {
   "cell_type": "code",
   "execution_count": null,
   "metadata": {},
   "outputs": [],
   "source": [
    "import java.util.Set;\n",
    "import java.util.HashSet;\n",
    "\n",
    "Set<Integer> s = new HashSet<>();\n",
    "s.add(1);\n",
    "s.add(2);\n",
    "s.add(3);\n",
    "System.out.println(\"s : \" + s);\n",
    "\n",
    "Set<Integer> t = new HashSet<>();\n",
    "t.add(3);\n",
    "t.add(4);\n",
    "t.add(5);\n",
    "System.out.println(\"t : \" + t);\n",
    "\n",
    "// copy of s\n",
    "Set<Integer> union = new HashSet<>(s);\n",
    "union.addAll(t);\n",
    "System.out.println(\"union : \" + union);"
   ]
  },
  {
   "cell_type": "markdown",
   "metadata": {},
   "source": [
    "An example of solving a problem using set union is predicting the total number of students who will be able to take a second-year CISC course in the upcoming year. The course CISC124 is the pre-requisite course for all second-year CISC courses; thus we want to count all of the students who have taken CISC124. However, we need to count all of the CISC121 students as well because many students take CISC124 in the first term of second year, and CISC121 is the pre-requisite for CISC124. We do not want to double count all of the students who have taken both CISC121 and CISC124. Taking the set union of the set of students who have completed CISC121 and the set of students who have taken CISC124 yields a reasonable estimate of the number of students who might take a second-year CISC course."
   ]
  },
  {
   "cell_type": "markdown",
   "metadata": {},
   "source": [
    "## Set intersection\n",
    "\n",
    "The [intersection](https://en.wikipedia.org/wiki/Intersection_(set_theory)) of two sets $A$ and $B$ is the set containing all of the elements that are in both $A$ and $B$, with duplicate elements included only once. For example, the intersection of the sets $\\{1, 2, 3\\}$ and $\\{3, 4, 5\\}$ is the set $\\{3\\}$. The method `retainAll(Collection c)` computes the set intersection by retaining only the elements in the set that are contained in the specified collection `c`."
   ]
  },
  {
   "cell_type": "code",
   "execution_count": 19,
   "metadata": {},
   "outputs": [
    {
     "name": "stdout",
     "output_type": "stream",
     "text": [
      "s : [1, 2, 3]\n",
      "t : [3, 4, 5]\n",
      "s : [3]\n"
     ]
    },
    {
     "data": {
      "text/plain": [
       "null"
      ]
     },
     "execution_count": 19,
     "metadata": {},
     "output_type": "execute_result"
    }
   ],
   "source": [
    "import java.util.Set;\n",
    "import java.util.HashSet;\n",
    "\n",
    "Set<Integer> s = new HashSet<>();\n",
    "s.add(1);\n",
    "s.add(2);\n",
    "s.add(3);\n",
    "System.out.println(\"s : \" + s);\n",
    "\n",
    "Set<Integer> t = new HashSet<>();\n",
    "t.add(3);\n",
    "t.add(4);\n",
    "t.add(5);\n",
    "System.out.println(\"t : \" + t);\n",
    "\n",
    "// destructive intersection of s and t---modifies s\n",
    "s.retainAll(t);\n",
    "System.out.println(\"s : \" + s);"
   ]
  },
  {
   "cell_type": "markdown",
   "metadata": {},
   "source": [
    "To perform a non-destructive intersection, copy one of the sets and perform the intersection using the copy:"
   ]
  },
  {
   "cell_type": "code",
   "execution_count": 20,
   "metadata": {},
   "outputs": [
    {
     "name": "stdout",
     "output_type": "stream",
     "text": [
      "s : [1, 2, 3]\n",
      "t : [3, 4, 5]\n",
      "intersection : [3]\n"
     ]
    },
    {
     "data": {
      "text/plain": [
       "null"
      ]
     },
     "execution_count": 20,
     "metadata": {},
     "output_type": "execute_result"
    }
   ],
   "source": [
    "import java.util.Set;\n",
    "import java.util.HashSet;\n",
    "\n",
    "Set<Integer> s = new HashSet<>();\n",
    "s.add(1);\n",
    "s.add(2);\n",
    "s.add(3);\n",
    "System.out.println(\"s : \" + s);\n",
    "\n",
    "Set<Integer> t = new HashSet<>();\n",
    "t.add(3);\n",
    "t.add(4);\n",
    "t.add(5);\n",
    "System.out.println(\"t : \" + t);\n",
    "\n",
    "// copy of s\n",
    "Set<Integer> intersect = new HashSet<>(s);\n",
    "intersect.retainAll(t);\n",
    "System.out.println(\"intersection : \" + intersect);"
   ]
  },
  {
   "cell_type": "markdown",
   "metadata": {},
   "source": [
    "## Set difference\n",
    "\n",
    "The [difference](https://en.wikipedia.org/wiki/Intersection_(set_theory)) of two sets $A$ and $B$ is the set containing all of the elements that are in $A$ and not in $B$. For example, the difference of the sets $\\{1, 2, 3\\}$ and $\\{3, 4, 5\\}$ is the set $\\{1, 2\\}$. The method `removeAll(Collection c)` computes the set difference by removing elements from the set that are also in the specified collection `c`"
   ]
  },
  {
   "cell_type": "code",
   "execution_count": 21,
   "metadata": {},
   "outputs": [
    {
     "name": "stdout",
     "output_type": "stream",
     "text": [
      "s : [1, 2, 3]\n",
      "t : [3, 4, 5]\n",
      "s : [1, 2]\n"
     ]
    },
    {
     "data": {
      "text/plain": [
       "null"
      ]
     },
     "execution_count": 21,
     "metadata": {},
     "output_type": "execute_result"
    }
   ],
   "source": [
    "import java.util.Set;\n",
    "import java.util.HashSet;\n",
    "\n",
    "Set<Integer> s = new HashSet<>();\n",
    "s.add(1);\n",
    "s.add(2);\n",
    "s.add(3);\n",
    "System.out.println(\"s : \" + s);\n",
    "\n",
    "Set<Integer> t = new HashSet<>();\n",
    "t.add(3);\n",
    "t.add(4);\n",
    "t.add(5);\n",
    "System.out.println(\"t : \" + t);\n",
    "\n",
    "// destructive difference of s and t---modifies s\n",
    "s.removeAll(t);\n",
    "System.out.println(\"s : \" + s);"
   ]
  },
  {
   "cell_type": "markdown",
   "metadata": {},
   "source": [
    "To perform a non-destructive difference, copy the first set and perform the difference using the copy:"
   ]
  },
  {
   "cell_type": "code",
   "execution_count": 22,
   "metadata": {},
   "outputs": [
    {
     "name": "stdout",
     "output_type": "stream",
     "text": [
      "s : [1, 2, 3]\n",
      "t : [3, 4, 5]\n",
      "difference : [1, 2]\n"
     ]
    },
    {
     "data": {
      "text/plain": [
       "null"
      ]
     },
     "execution_count": 22,
     "metadata": {},
     "output_type": "execute_result"
    }
   ],
   "source": [
    "import java.util.Set;\n",
    "import java.util.HashSet;\n",
    "\n",
    "Set<Integer> s = new HashSet<>();\n",
    "s.add(1);\n",
    "s.add(2);\n",
    "s.add(3);\n",
    "System.out.println(\"s : \" + s);\n",
    "\n",
    "Set<Integer> t = new HashSet<>();\n",
    "t.add(3);\n",
    "t.add(4);\n",
    "t.add(5);\n",
    "System.out.println(\"t : \" + t);\n",
    "\n",
    "// copy of s\n",
    "Set<Integer> diff = new HashSet<>(s);\n",
    "diff.removeAll(t);\n",
    "System.out.println(\"difference : \" + diff);"
   ]
  },
  {
   "cell_type": "markdown",
   "metadata": {},
   "source": [
    "# Exercises"
   ]
  },
  {
   "cell_type": "markdown",
   "metadata": {},
   "source": [
    "1. What sort of real-life examples can be modeled as a set?"
   ]
  },
  {
   "cell_type": "markdown",
   "metadata": {},
   "source": [
    "2. Suppose that your instructor has $n$ sets of student numbers where each set represents the students who submitted a particular assignment (i.e., set 1 is the set of students who submitted assignment 1, set 2 is the set of students who submitted assignment 2, and so on. How do find the set of students who:\n",
    "    * submitted assignments 1 and 2?\n",
    "    * submitted assignments 1 or 2 or both 1 and 2?\n",
    "    * submitted at least one assignment?\n",
    "    * submitted all of the assignments?\n",
    "    * submitted at least one assignment but did not submit assignment 2?\n",
    "    * submitted only one assignment?"
   ]
  },
  {
   "cell_type": "markdown",
   "metadata": {},
   "source": [
    "3. A student tries to perform a non-destructive union as `t.addAll(copy)`. What went wrong?"
   ]
  },
  {
   "cell_type": "markdown",
   "metadata": {},
   "source": [
    "4. Remove all of the duplicate elements from the list `t` in the cell below. Do this by making a set containing all of the elements of `t`. Then clear the list `t` and add all of the elements from the set back to `t`."
   ]
  },
  {
   "cell_type": "code",
   "execution_count": 30,
   "metadata": {},
   "outputs": [
    {
     "name": "stdout",
     "output_type": "stream",
     "text": [
      "[4, -5, 1, -2, 0, 1, -5, -1, 2, -2, -2, 0, 0, 0, -1]\n",
      "No duplicates: [0, -1, 1, -2, 2, 4, -5]\n"
     ]
    },
    {
     "data": {
      "text/plain": [
       "null"
      ]
     },
     "execution_count": 30,
     "metadata": {},
     "output_type": "execute_result"
    }
   ],
   "source": [
    "%classpath add jar ../resources/jar/notes.jar\n",
    "\n",
    "// Exercise 4\n",
    "import java.util.Set;\n",
    "import java.util.HashSet;\n",
    "import java.util.List;\n",
    "import java.util.ArrayList;\n",
    "import ca.queensu.cs.cisc124.notes.util.Utils;\n",
    "\n",
    "List<Integer> t = Utils.randomIntList(15, -5, 5);\n",
    "System.out.println(t);\n",
    "Set<Integer> nw = new HashSet<>(t);\n",
    "System.out.println(\"No duplicates: \" + nw);"
   ]
  },
  {
   "cell_type": "markdown",
   "metadata": {},
   "source": [
    "5. Repeat Exercise 4 except ensure that `t` is in sorted order. Do this by choosing an appropriate kind of set."
   ]
  },
  {
   "cell_type": "code",
   "execution_count": 36,
   "metadata": {},
   "outputs": [
    {
     "name": "stdout",
     "output_type": "stream",
     "text": [
      "[-5, -4, 2, 3, 4, -3, -2, -1, -2, 4, -1, 2, -5, -1, -1]\n",
      "[-5, -4, -3, -2, -1, 2, 3, 4]\n"
     ]
    },
    {
     "data": {
      "text/plain": [
       "null"
      ]
     },
     "execution_count": 36,
     "metadata": {},
     "output_type": "execute_result"
    }
   ],
   "source": [
    "%classpath add jar ../resources/jar/notes.jar\n",
    "\n",
    "// Exercise 5\n",
    "import java.util.Set;\n",
    "import java.util.TreeSet;\n",
    "import java.util.List;\n",
    "import java.util.ArrayList;\n",
    "import ca.queensu.cs.cisc124.notes.util.Utils;\n",
    "\n",
    "List<Integer> t = Utils.randomIntList(15, -5, 5);\n",
    "System.out.println(t);\n",
    "Set<Integer> nw = new TreeSet<>(t);\n",
    "System.out.println(nw);"
   ]
  },
  {
   "cell_type": "markdown",
   "metadata": {},
   "source": [
    "6. In Exercises 4 and 5 how can you tell if the original list already contained unique elements?"
   ]
  },
  {
   "cell_type": "markdown",
   "metadata": {},
   "source": [
    "7. In Exercise 5 suppose that you wanted the list `t` to contain only the unique negative values. If you use a `TreeSet` there is an easy way to accomplish this task using the method `headSet`. Try to do so in the cell below:"
   ]
  },
  {
   "cell_type": "code",
   "execution_count": 37,
   "metadata": {},
   "outputs": [
    {
     "ename": "cannot find symbol",
     "evalue": "cannot find symbol",
     "output_type": "error",
     "traceback": [
      "\u001b[1;31mcannot find symbol\u001b[0;0m",
      "\u001b[1;31m  symbol:   method headSet(int)\u001b[0;0m",
      "\u001b[1;31m  location: variable t of type java.util.List<java.lang.Integer>\u001b[0;0m",
      "\u001b[1;31m nw.addAll(t.headSet(0))\u001b[0;0m",
      "\u001b[1;31m           ^        ^     \u001b[0;0m"
     ]
    }
   ],
   "source": [
    "%classpath add jar ../resources/jar/notes.jar\n",
    "\n",
    "// Exercise 7\n",
    "import java.util.Set;\n",
    "import java.util.TreeSet;\n",
    "import java.util.List;\n",
    "import java.util.ArrayList;\n",
    "import ca.queensu.cs.cisc124.notes.util.Utils;\n",
    "\n",
    "List<Integer> t = Utils.randomIntList(15, -5, 5);\n",
    "System.out.println(t);\n",
    "Set<Integer> nw = new TreeSet<>(t);\n",
    "nw.addAll(t.headSet(0));"
   ]
  },
  {
   "cell_type": "markdown",
   "metadata": {},
   "source": [
    "8. In Exercise 7 suppose that you wanted the list `t` to contain only the unique positive values. If you use a `TreeSet` there is an easy way to accomplish this task using the method `tailSet`. Try to do so in the cell below:"
   ]
  },
  {
   "cell_type": "code",
   "execution_count": null,
   "metadata": {},
   "outputs": [],
   "source": [
    "%classpath add jar ../resources/jar/notes.jar\n",
    "\n",
    "// Exercise 8\n",
    "\n",
    "import java.util.List;\n",
    "import java.util.ArrayList;\n",
    "import ca.queensu.cs.cisc124.notes.util.Utils;\n",
    "\n",
    "List<Integer> t = Utils.randomIntList(15, -5, 5);\n",
    "System.out.println(t);\n"
   ]
  }
 ],
 "metadata": {
  "kernelspec": {
   "display_name": "Java",
   "language": "java",
   "name": "java"
  },
  "language_info": {
   "codemirror_mode": "text/x-java",
   "file_extension": ".java",
   "mimetype": "",
   "name": "Java",
   "nbconverter_exporter": "",
   "version": "1.8.0_121"
  },
  "toc": {
   "base_numbering": 1,
   "nav_menu": {},
   "number_sections": false,
   "sideBar": false,
   "skip_h1_title": false,
   "title_cell": "Table of Contents",
   "title_sidebar": "Contents",
   "toc_cell": false,
   "toc_position": {},
   "toc_section_display": false,
   "toc_window_display": false
  }
 },
 "nbformat": 4,
 "nbformat_minor": 4
}
