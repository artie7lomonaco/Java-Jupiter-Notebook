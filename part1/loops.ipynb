{
 "cells": [
  {
   "cell_type": "markdown",
   "metadata": {},
   "source": [
    "<a id=\"notebook_id\"></a>\n",
    "# Loops\n",
    "\n",
    "Loops allow the programmer to repeat a block of code.\n",
    "\n",
    "Python and Java both have their own versions of `for`-each loops and `while` loops, and both languages support the `break` and `continue` statements.\n",
    "\n",
    "Python loops are allowed to have an `else` clause that runs when a loop terminates (except when the loop terminates because of a `break` statement). Java loops have no `else` clause.\n",
    "\n",
    "Java supports a more traditional version of the `for` loop that allows the user to define both the iteration step and halting condition. Java also supports a `do-while` loop."
   ]
  },
  {
   "cell_type": "markdown",
   "metadata": {},
   "source": [
    "## Python loops\n",
    "\n",
    "### `for` loops\n",
    "\n",
    "Python's `for` loop is similar to Java's `for`-each loop. A `for` loop in Python iterates over the elements of a sequence. An example of a simple `for` loop is:"
   ]
  },
  {
   "cell_type": "code",
   "execution_count": 1,
   "metadata": {},
   "outputs": [
    {
     "name": "stdout",
     "output_type": "stream",
     "text": [
      "one\n",
      "two\n",
      "three\n",
      "four\n"
     ]
    }
   ],
   "source": [
    "%%python\n",
    "t = ['one', 'two', 'three', 'four']\n",
    "for item in t:\n",
    "    print(item)"
   ]
  },
  {
   "cell_type": "markdown",
   "metadata": {},
   "source": [
    "The `for` loop iterates sequentially over the elements of the sequence starting from the first element in the sequence. The loop variable `item` is used inside the body of the loop to reference the element of the sequence that the loop is currently visiting. The scope of the variable `item` is not limited to the body of the loop but extends beyond the loop body:"
   ]
  },
  {
   "cell_type": "code",
   "execution_count": 2,
   "metadata": {},
   "outputs": [
    {
     "name": "stdout",
     "output_type": "stream",
     "text": [
      "tell\n",
      "me\n",
      "that\n",
      "you\n",
      "love\n",
      "me\n",
      "more\n",
      "the value of item: more\n"
     ]
    }
   ],
   "source": [
    "%%python\n",
    "t = ['tell', 'me', 'that', 'you', 'love', 'me', 'more']\n",
    "for item in t:\n",
    "    print(item)\n",
    "    \n",
    "# item is still in scope here\n",
    "print('the value of item: ' + item)"
   ]
  },
  {
   "cell_type": "markdown",
   "metadata": {},
   "source": [
    "`for` loops often use the function `range` to iterate over a sequential range of integer values:"
   ]
  },
  {
   "cell_type": "code",
   "execution_count": 3,
   "metadata": {},
   "outputs": [
    {
     "name": "stdout",
     "output_type": "stream",
     "text": [
      "sleepless\n",
      "long\n",
      "nights\n"
     ]
    }
   ],
   "source": [
    "%%python\n",
    "t = ['sleepless', 'long', 'nights']\n",
    "for i in range(0, len(t)):\n",
    "    print(t[i])"
   ]
  },
  {
   "cell_type": "markdown",
   "metadata": {},
   "source": [
    "Python loops in general are allowed to have an `else` clause that runs when a loop terminates (except when the loop terminates because of a `break` statement). The [official Python tutorial](https://docs.python.org/3/tutorial/controlflow.html#break-and-continue-statements-and-else-clauses-on-loops) gives the following example of an `else` clause after a `for` loop:"
   ]
  },
  {
   "cell_type": "code",
   "execution_count": 4,
   "metadata": {},
   "outputs": [
    {
     "name": "stdout",
     "output_type": "stream",
     "text": [
      "2 is a prime number\n",
      "3 is a prime number\n",
      "4 equals 2 * 2\n",
      "5 is a prime number\n",
      "6 equals 2 * 3\n",
      "7 is a prime number\n",
      "8 equals 2 * 4\n",
      "9 equals 3 * 3\n"
     ]
    }
   ],
   "source": [
    "%%python\n",
    "for n in range(2, 10):\n",
    "    for x in range(2, n):\n",
    "        if n % x == 0:\n",
    "            print(n, 'equals', x, '*', n//x)\n",
    "            break\n",
    "    else:\n",
    "        # loop fell through without finding a factor\n",
    "        print(n, 'is a prime number')"
   ]
  },
  {
   "cell_type": "markdown",
   "metadata": {},
   "source": [
    "### `while` loops\n",
    "\n",
    "Python's `while` loop iterates as long as a loop condition is `True`. An example of a simple `while` loop is:"
   ]
  },
  {
   "cell_type": "code",
   "execution_count": 5,
   "metadata": {},
   "outputs": [
    {
     "name": "stdout",
     "output_type": "stream",
     "text": [
      "that\n",
      "is\n",
      "what\n",
      "my\n",
      "youth\n",
      "was\n",
      "for\n",
      "t:  []\n"
     ]
    }
   ],
   "source": [
    "%%python\n",
    "t = ['that', 'is', 'what', 'my', 'youth', 'was', 'for']\n",
    "while len(t) != 0:\n",
    "    print(t.pop(0))\n",
    "print('t: ', t)"
   ]
  },
  {
   "cell_type": "markdown",
   "metadata": {},
   "source": [
    "## Java loops\n",
    "\n",
    "### `for`-each loops\n",
    "\n",
    "Java's `for`-each loop (also called an *enhanced for loop*) iterates over a collection that implements the `Iterable` interface; this includes arrays, lists and sets but not strings. The syntax is not too different from that used in Python:\n",
    "\n",
    "```java\n",
    "for (element-type loop-variable : sequence-reference) {\n",
    "   // loop body\n",
    "}\n",
    "```\n",
    "\n",
    "where *element-type* is the type of the element in the collection, *loop-variable* is the name of the loop variable that is usable inside the loop body, and *sequence-reference* is a reference to the collection to iterate over. An example of a Java `for`-each loop is that iterates over an array of strings is:"
   ]
  },
  {
   "cell_type": "code",
   "execution_count": 6,
   "metadata": {},
   "outputs": [
    {
     "name": "stdout",
     "output_type": "stream",
     "text": [
      "one\n",
      "two\n",
      "three\n",
      "four\n"
     ]
    },
    {
     "data": {
      "text/plain": [
       "null"
      ]
     },
     "execution_count": 6,
     "metadata": {},
     "output_type": "execute_result"
    }
   ],
   "source": [
    "String[] arr = {\"one\", \"two\", \"three\", \"four\"};\n",
    "for (String item : arr) {\n",
    "    System.out.println(item);\n",
    "}"
   ]
  },
  {
   "cell_type": "markdown",
   "metadata": {},
   "source": [
    "The loop in the preceding example can be read as \"for each string named item in arr\".\n",
    "\n",
    "Unlike Python, the scope of a loop variable is the body of the loop; the value of a loop variable is not available after the loop has completed. Try running the following cell:"
   ]
  },
  {
   "cell_type": "code",
   "execution_count": 7,
   "metadata": {},
   "outputs": [
    {
     "ename": "cannot find symbol",
     "evalue": "cannot find symbol",
     "output_type": "error",
     "traceback": [
      "\u001b[1;31mcannot find symbol\u001b[0;0m",
      "\u001b[1;31m  symbol:   variable item\u001b[0;0m",
      "\u001b[0;31m  location: class com.twosigma.beaker.javash.bkr87272a6f.BeakerWrapperClass1261714175Id60138c684552437b87e7bda1ba3a6629\u001b[0;0m",
      "\u001b[0;31m System.out.println(item)\u001b[0;0m",
      "\u001b[0;31m                    ^   ^  \u001b[0;0m"
     ]
    }
   ],
   "source": [
    "String[] arr = {\"tell\", \"me\", \"that\", \"you\", \"love\", \"me\", \"more\"};\n",
    "for (String item : arr) {\n",
    "    System.out.println(item);\n",
    "}\n",
    "// the loop variable item is out of scope here\n",
    "System.out.println(item);"
   ]
  },
  {
   "cell_type": "markdown",
   "metadata": {},
   "source": [
    "Loops can be nested to any depth. For example, a small multiplication table can be printed using a pair of nested loops that iterate over the same array:"
   ]
  },
  {
   "cell_type": "code",
   "execution_count": 8,
   "metadata": {},
   "outputs": [
    {
     "name": "stdout",
     "output_type": "stream",
     "text": [
      "1\t2\t3\t4\t5\t\n",
      "2\t4\t6\t8\t10\t\n",
      "3\t6\t9\t12\t15\t\n",
      "4\t8\t12\t16\t20\t\n",
      "5\t10\t15\t20\t25\t\n"
     ]
    },
    {
     "data": {
      "text/plain": [
       "null"
      ]
     },
     "execution_count": 8,
     "metadata": {},
     "output_type": "execute_result"
    }
   ],
   "source": [
    "int[] nums = {1, 2, 3, 4, 5};\n",
    "for (int i : nums) {\n",
    "    for (int j : nums) {\n",
    "        int product = i * j;\n",
    "        System.out.print(product + \"\\t\");\n",
    "    }\n",
    "    System.out.println();\n",
    "}"
   ]
  },
  {
   "cell_type": "markdown",
   "metadata": {},
   "source": [
    "In the preceding example, the `i`-loop runs 5 times (because `nums` has 5 elements). Each time the `i`-loop runs, the `j`-loop runs 5 times (again, because `nums` has 5 elements). Inside the `j`-loop the product `i * j` is computed and printed. A visualization of the value of the loop variables can be obtained by running the following cell:"
   ]
  },
  {
   "cell_type": "code",
   "execution_count": 9,
   "metadata": {},
   "outputs": [
    {
     "name": "stdout",
     "output_type": "stream",
     "text": [
      "i : 1\n",
      "\tj : 1\n",
      "\t\t1 * 1 = 1\n",
      "\tj : 2\n",
      "\t\t1 * 2 = 2\n",
      "\tj : 3\n",
      "\t\t1 * 3 = 3\n",
      "\tj : 4\n",
      "\t\t1 * 4 = 4\n",
      "\tj : 5\n",
      "\t\t1 * 5 = 5\n",
      "i : 2\n",
      "\tj : 1\n",
      "\t\t2 * 1 = 2\n",
      "\tj : 2\n",
      "\t\t2 * 2 = 4\n",
      "\tj : 3\n",
      "\t\t2 * 3 = 6\n",
      "\tj : 4\n",
      "\t\t2 * 4 = 8\n",
      "\tj : 5\n",
      "\t\t2 * 5 = 10\n",
      "i : 3\n",
      "\tj : 1\n",
      "\t\t3 * 1 = 3\n",
      "\tj : 2\n",
      "\t\t3 * 2 = 6\n",
      "\tj : 3\n",
      "\t\t3 * 3 = 9\n",
      "\tj : 4\n",
      "\t\t3 * 4 = 12\n",
      "\tj : 5\n",
      "\t\t3 * 5 = 15\n",
      "i : 4\n",
      "\tj : 1\n",
      "\t\t4 * 1 = 4\n",
      "\tj : 2\n",
      "\t\t4 * 2 = 8\n",
      "\tj : 3\n",
      "\t\t4 * 3 = 12\n",
      "\tj : 4\n",
      "\t\t4 * 4 = 16\n",
      "\tj : 5\n",
      "\t\t4 * 5 = 20\n",
      "i : 5\n",
      "\tj : 1\n",
      "\t\t5 * 1 = 5\n",
      "\tj : 2\n",
      "\t\t5 * 2 = 10\n",
      "\tj : 3\n",
      "\t\t5 * 3 = 15\n",
      "\tj : 4\n",
      "\t\t5 * 4 = 20\n",
      "\tj : 5\n",
      "\t\t5 * 5 = 25\n"
     ]
    },
    {
     "data": {
      "text/plain": [
       "null"
      ]
     },
     "execution_count": 9,
     "metadata": {},
     "output_type": "execute_result"
    }
   ],
   "source": [
    "int[] nums = {1, 2, 3, 4, 5};\n",
    "for (int i : nums) {\n",
    "    System.out.println(\"i : \" + i);\n",
    "    for (int j : nums) {\n",
    "        System.out.println(\"\\tj : \" + j);   // note: \\t is the tab character\n",
    "        int product = i * j;\n",
    "        System.out.println(\"\\t\\t\" + i + \" * \" + j + \" = \" + product);\n",
    "    }\n",
    "}"
   ]
  },
  {
   "cell_type": "markdown",
   "metadata": {},
   "source": [
    "### `for` loops\n",
    "\n",
    "The regular `for` loop in Java has the following form:\n",
    "\n",
    "```java\n",
    "for (initialization-expr; termination-cond; update-expr) {\n",
    "      // loop body\n",
    "}\n",
    "// after loop\n",
    "```\n",
    "\n",
    "* *initialization-expr* is an expression that initializes the loop. It is executed once when the loop begins. Usually, a loop variable is declared and initialized in the initialization expression.\n",
    "* *termination-expr* is a `boolean` valued expression that is evaluated before each loop iteration (including the first iteration). If *termination-expr* is equal to `true` then the loop body runs once (i.e., one iteration of the loop occurs). If *termination-expr* is equal to `false` then the loop body does not run and program flow goes to the line with the comment `// after loop`.\n",
    "* *update-expr* is evaluated after each iteration through the loop. The update expression usually changes the value of the loop variable in some way.\n"
   ]
  },
  {
   "cell_type": "markdown",
   "metadata": {},
   "source": [
    "Consider the Python loop\n",
    "\n",
    "```python\n",
    "for i in range(0, 5):\n",
    "    print(i)\n",
    "```\n",
    "\n",
    "The Java `for` loop that is equivalent to the Python loop is:"
   ]
  },
  {
   "cell_type": "code",
   "execution_count": 10,
   "metadata": {},
   "outputs": [
    {
     "name": "stdout",
     "output_type": "stream",
     "text": [
      "0\n",
      "1\n",
      "2\n",
      "3\n",
      "4\n",
      "Done!\n"
     ]
    },
    {
     "data": {
      "text/plain": [
       "null"
      ]
     },
     "execution_count": 10,
     "metadata": {},
     "output_type": "execute_result"
    }
   ],
   "source": [
    "for (int i = 0; i < 5; i++) {\n",
    "    System.out.println(i);\n",
    "}\n",
    "System.out.println(\"Done!\");"
   ]
  },
  {
   "cell_type": "markdown",
   "metadata": {},
   "source": [
    "The initialization expression `int i = 0` creates a loop variable `i` with an initial value of `0`.\n",
    "\n",
    "The termination expression `i < 5` is evaluated *before* every loop iteration. The loop runs when the termination condition is evaluated and equal to `true` and the loop ends when termination condition is evaluated and equal to `false`. This particular loop example is guaranteed to run at least once because the initial value of `i` is `0` and `0 < 5` is `true`.\n",
    "\n",
    "The update expression `i++` increments the value `i` *after* every loop iteration. The first time that the loop runs the loop body prints the value `0` (the current value of `i`). Because there are no more statements after the `println` statement in the loop body, the update expression is evaluated which causes the value of `i` to become `1`.\n",
    "\n",
    "After the update expression is evaluated, program flow goes back to the beginning of the loop body where the termination expression is evaluated. At the start of the second loop iteration `i` is equal to `1` and `1 < 5` is `true` so the loop body runs a second time.\n",
    "\n",
    "The looping process continues for values of `i` equal to `2`, `3`, and `4`. After the value `4` is printed the update expression increments `i` to have the value `5` and program flow goes back to the beginning of the loop. The termination expression `5 < 5` is evaluated and its value is `false`. The loop stops and program flow goes to the line after the loop body which prints the string `\"Done!\"`."
   ]
  },
  {
   "cell_type": "markdown",
   "metadata": {},
   "source": [
    "There is no rule that says the update expression must increment the loop variable by 1. For example, we can increment in multiples of 2:"
   ]
  },
  {
   "cell_type": "code",
   "execution_count": 11,
   "metadata": {},
   "outputs": [
    {
     "name": "stdout",
     "output_type": "stream",
     "text": [
      "0\n",
      "2\n",
      "4\n",
      "6\n",
      "8\n"
     ]
    },
    {
     "data": {
      "text/plain": [
       "null"
      ]
     },
     "execution_count": 11,
     "metadata": {},
     "output_type": "execute_result"
    }
   ],
   "source": [
    "for (int i = 0; i < 10; i += 2) {\n",
    "    System.out.println(i);\n",
    "}"
   ]
  },
  {
   "cell_type": "markdown",
   "metadata": {},
   "source": [
    "and we count down to 0:"
   ]
  },
  {
   "cell_type": "code",
   "execution_count": 12,
   "metadata": {},
   "outputs": [
    {
     "name": "stdout",
     "output_type": "stream",
     "text": [
      "5\n",
      "4\n",
      "3\n",
      "2\n",
      "1\n",
      "0\n"
     ]
    },
    {
     "data": {
      "text/plain": [
       "null"
      ]
     },
     "execution_count": 12,
     "metadata": {},
     "output_type": "execute_result"
    }
   ],
   "source": [
    "for (int i = 5; i >= 0; --i) {\n",
    "    System.out.println(i);\n",
    "}"
   ]
  },
  {
   "cell_type": "markdown",
   "metadata": {},
   "source": [
    "Before the `for`-each loop was introduced in the language a regular `for` loop was often used to iterate over the elements of an array or list; for example:"
   ]
  },
  {
   "cell_type": "code",
   "execution_count": 13,
   "metadata": {},
   "outputs": [
    {
     "data": {
      "application/vnd.jupyter.widget-view+json": {
       "model_id": "eaf8833d-94b9-456b-bad7-62ebfc85cc5d",
       "version_major": 2,
       "version_minor": 0
      },
      "method": "display_data"
     },
     "metadata": {},
     "output_type": "display_data"
    },
    {
     "name": "stdout",
     "output_type": "stream",
     "text": [
      "tell\n",
      "me\n",
      "that\n",
      "you\n",
      "love\n",
      "me\n",
      "more\n",
      "sleepless\n",
      "long\n",
      "nights\n"
     ]
    },
    {
     "data": {
      "text/plain": [
       "null"
      ]
     },
     "execution_count": 13,
     "metadata": {},
     "output_type": "execute_result"
    }
   ],
   "source": [
    "%classpath add jar ../resources/jar/notes.jar\n",
    "\n",
    "import java.util.List;\n",
    "import ca.queensu.cs.cisc124.notes.util.Utils;\n",
    "\n",
    "String[] arr = {\"tell\", \"me\", \"that\", \"you\", \"love\", \"me\", \"more\"};\n",
    "for (int i = 0; i < arr.length; i++) {\n",
    "    String s = arr[i];\n",
    "    System.out.println(s);\n",
    "}\n",
    "\n",
    "List<String> t = Utils.listOf(\"sleepless\", \"long\", \"nights\");\n",
    "for (int i = 0; i < t.size(); i++) {\n",
    "    String s = t.get(i);\n",
    "    System.out.println(s);\n",
    "}"
   ]
  },
  {
   "cell_type": "markdown",
   "metadata": {},
   "source": [
    "A `for`-each loop given access to only one element of an array or list during each iteration. If you need to access more than one element then a regular `for` loop is usually used. For example, we can check if an array of numeric values is sorted from smallest to largest by comparing adjacent elements of the array (try re-arranging the values of `arr` and check that the correct string is output):"
   ]
  },
  {
   "cell_type": "code",
   "execution_count": 17,
   "metadata": {},
   "outputs": [
    {
     "name": "stdout",
     "output_type": "stream",
     "text": [
      "array is sorted: false\n"
     ]
    },
    {
     "data": {
      "text/plain": [
       "null"
      ]
     },
     "execution_count": 17,
     "metadata": {},
     "output_type": "execute_result"
    }
   ],
   "source": [
    "double[] arr = {-2.5, 0.7, 3.8, 5.7, 9.9, 0.0};\n",
    "boolean isSorted = true;\n",
    "for (int i = 1; i < arr.length; i++) {\n",
    "    if (arr[i - 1] > arr[i]) {\n",
    "        isSorted = false;\n",
    "    }\n",
    "}\n",
    "System.out.println(\"array is sorted: \" + isSorted);"
   ]
  },
  {
   "cell_type": "markdown",
   "metadata": {},
   "source": [
    "As with the `for`-each loop, the scope of a loop variable declared in the initialization expression is limited to the loop. Try running the following cell to see what happens when the loop variable `i` is used after the loop:"
   ]
  },
  {
   "cell_type": "code",
   "execution_count": 15,
   "metadata": {},
   "outputs": [
    {
     "ename": "cannot find symbol",
     "evalue": "cannot find symbol",
     "output_type": "error",
     "traceback": [
      "\u001b[1;31mcannot find symbol\u001b[0;0m",
      "\u001b[1;31m  symbol:   variable i\u001b[0;0m",
      "\u001b[0;31m  location: class com.twosigma.beaker.javash.bkr87272a6f.BeakerWrapperClass1261714175Idc0368dd1da2d4f3baf7534bfbe4271c3\u001b[0;0m",
      "\u001b[0;31m System.out.println(i)\u001b[0;0m",
      "\u001b[0;31m                    ^^  \u001b[0;0m"
     ]
    }
   ],
   "source": [
    "String[] arr = {\"tell\", \"me\", \"that\", \"you\", \"love\", \"me\", \"more\"};\n",
    "for (int i = 0; i < arr.length; i++) {\n",
    "    String s = arr[i];\n",
    "    System.out.println(s);\n",
    "}\n",
    "// i is out of scope here\n",
    "System.out.println(i);"
   ]
  },
  {
   "cell_type": "markdown",
   "metadata": {},
   "source": [
    "Occasionally, the loop variable is needed after the loop. In such a situation, the loop variable should be declared and initialized *before* the loop. The Python loop from earlier in this notebook used an `else` clause to detect if a number was a prime (the example is repeated here for convenience):\n",
    "\n",
    "\n",
    "```python\n",
    "for n in range(2, 10):\n",
    "    for x in range(2, n):\n",
    "        if n % x == 0:\n",
    "            print(n, 'equals', x, '*', n//x)\n",
    "            break\n",
    "    else:\n",
    "        # loop fell through without finding a factor\n",
    "        print(n, 'is a prime number')\n",
    "```"
   ]
  },
  {
   "cell_type": "markdown",
   "metadata": {},
   "source": [
    "Observe that the `else` clause is reached when all of the elements of the sequence `range(2, n)` are exhausted. We can obtain a similar effect in Java by testing if the loop variable `x` is equal to `n` *after* the innermost loop has run:"
   ]
  },
  {
   "cell_type": "code",
   "execution_count": 18,
   "metadata": {},
   "outputs": [
    {
     "name": "stdout",
     "output_type": "stream",
     "text": [
      "2 is a prime number\n",
      "3 is a prime number\n",
      "4 equals 2 * 2\n",
      "5 is a prime number\n",
      "6 equals 2 * 3\n",
      "7 is a prime number\n",
      "8 equals 2 * 4\n",
      "9 equals 3 * 3\n"
     ]
    },
    {
     "data": {
      "text/plain": [
       "null"
      ]
     },
     "execution_count": 18,
     "metadata": {},
     "output_type": "execute_result"
    }
   ],
   "source": [
    "for (int n = 2; n < 10; n++) {\n",
    "    int x = 2;                      // declare and initialize x before the loop\n",
    "    for (; x < n; x++) {\n",
    "        if (n % x == 0) {\n",
    "            System.out.println(n + \" equals \" + x + \" * \" + (n / x));\n",
    "            break;\n",
    "        }\n",
    "    }\n",
    "    if (x == n) {                   // test if the break statement did not run\n",
    "        System.out.println(n + \" is a prime number\");\n",
    "    }\n",
    "}"
   ]
  },
  {
   "cell_type": "markdown",
   "metadata": {},
   "source": [
    "In this example, when the innermost loop finds a factor of `n` it breaks out of the innermost loop; when it breaks out of the loop the value of `x` must be less than `n` (because the loop runs only if the termination condition `x < n` is `true`). If the innermost does not find a factor of `n` then it must be the case that the value of `x` is equal to `n` and `n` must be a prime number."
   ]
  },
  {
   "cell_type": "markdown",
   "metadata": {},
   "source": [
    "## `while` loops\n",
    "\n",
    "Java's `while` loop is very similar to Python's `while` loop. The basic syntax for a `while` loop is:\n",
    "\n",
    "```java\n",
    "while (condition-expr) {\n",
    "   // loop body\n",
    "}\n",
    "// after loop\n",
    "```\n",
    "\n",
    "The condition expression *condition-expr* is an expression that evaluates to a `boolean` value. The condition expression is evaluated at the beginning of every loop iteration *before* the loop body runs; if the condition expression is `true` then the loop body runs; otherwise the loop ends and program flow goes to the line with the comment `// after loop`. After each iteration of the loop body, control flow returns to the beginning of the loop body and the condition expression is evaluated to determine if the loop body should run again. A simple example of a `while` loop is:"
   ]
  },
  {
   "cell_type": "code",
   "execution_count": 19,
   "metadata": {},
   "outputs": [
    {
     "name": "stdout",
     "output_type": "stream",
     "text": [
      "that\n",
      "is\n",
      "what\n",
      "my\n",
      "youth\n",
      "was\n",
      "for\n"
     ]
    },
    {
     "data": {
      "text/plain": [
       "null"
      ]
     },
     "execution_count": 19,
     "metadata": {},
     "output_type": "execute_result"
    }
   ],
   "source": [
    "%classpath add jar ../resources/jar/notes.jar\n",
    "\n",
    "import java.util.List;\n",
    "import ca.queensu.cs.cisc124.notes.util.Utils;\n",
    "\n",
    "List<String> t = Utils.listOf(\"that\", \"is\", \"what\", \"my\", \"youth\", \"was\", \"for\");\n",
    "while (!t.isEmpty()) {\n",
    "    String s = t.remove(0);   // get and remove the first element of t\n",
    "    System.out.println(s);\n",
    "}\n"
   ]
  },
  {
   "cell_type": "markdown",
   "metadata": {},
   "source": [
    "## `do-while` loops\n",
    "\n",
    "A `do-while` loop is similar to a `while` loop except that the condition expression is checked at the *end* of each loop iteration. The basic syntax for a `do-while` loop is:\n",
    "\n",
    "```java\n",
    "do {\n",
    "   // loop body\n",
    "} while (condition-expr);\n",
    "// after loop\n",
    "```\n",
    "\n",
    "The condition expression *condition-expr* is an expression that evaluates to a `boolean` value. The condition expression is evaluated at the end of every loop iteration *after* the loop body runs; if the condition expression is `true` then program flow returns to the beginning of the loop body and the loop body runs one more time; otherwise the loop ends and control flow goes to the line with the comment `// after loop`. A simple example of a `do-while` loop is:"
   ]
  },
  {
   "cell_type": "code",
   "execution_count": 20,
   "metadata": {},
   "outputs": [
    {
     "name": "stdout",
     "output_type": "stream",
     "text": [
      "old\n",
      "teenage\n",
      "hopes\n",
      "are\n",
      "alive\n",
      "at\n",
      "your\n",
      "door\n"
     ]
    },
    {
     "data": {
      "text/plain": [
       "null"
      ]
     },
     "execution_count": 20,
     "metadata": {},
     "output_type": "execute_result"
    }
   ],
   "source": [
    "%classpath add jar ../resources/jar/notes.jar\n",
    "\n",
    "import java.util.List;\n",
    "import ca.queensu.cs.cisc124.notes.util.Utils;\n",
    "\n",
    "List<String> t = Utils.listOf(\"old\", \"teenage\", \"hopes\", \"are\", \"alive\", \"at\", \"your\", \"door\");\n",
    "do {\n",
    "    String s = t.remove(0);   // get and remove the first element of t\n",
    "    System.out.println(s);\n",
    "} while (!t.isEmpty());"
   ]
  },
  {
   "cell_type": "markdown",
   "metadata": {},
   "source": [
    "## Exercises\n",
    "\n",
    "1. Consider the loop header `for (int i = 0; i < 5; i++)`. What are three different update expressions that are equivalent to `i++`?\n",
    "\n",
    "2. In general, how many times does a `while` loop run?\n",
    "\n",
    "3. In general, how many times does a `do-while` loop run?"
   ]
  },
  {
   "cell_type": "markdown",
   "metadata": {},
   "source": [
    "4. The [Fizz buzz](https://en.wikipedia.org/wiki/Fizz_buzz) problem is a well-known programmer interview problem that any university-level computer science student should be able to solve, and yet (anecdotally) a surprisingly large fraction of graduates [cannot solve the problem in a reasonable amount of time](https://blog.codinghorror.com/why-cant-programmers-program/). Write a loop that solves the Fizz buzz problem for the values 1, 2, 3, ..., 100. Your loop should output the string starting with `1, 2, Fizz, 4, Buzz, Fizz, ` continuing until the string ends with `, Fizz, 100`. There should not be a comma or space after the `100`."
   ]
  },
  {
   "cell_type": "code",
   "execution_count": 23,
   "metadata": {},
   "outputs": [
    {
     "name": "stdout",
     "output_type": "stream",
     "text": [
      "2\n",
      "fizz, fizz, fizz, fizz, fizz, fizz, fizz, fizz, fizz, fizz, fizz, fizz, fizz, fizz, fizz, fizz, fizz, fizz, fizz, fizz, fizz, fizz, fizz, fizz, fizz, fizz, fizz, fizz, fizz, fizz, fizz, fizz, fizz, "
     ]
    },
    {
     "data": {
      "text/plain": [
       "null"
      ]
     },
     "execution_count": 23,
     "metadata": {},
     "output_type": "execute_result"
    }
   ],
   "source": [
    "// Exercise 4\n",
    "System.out.print(\"1\");\n",
    "for (int i = 2; i <= 100; i++){\n",
    "    System.out.print(\", \");\n",
    "    String s = \"\" + i;\n",
    "    if (i % 5 == 0){\n",
    "        //look at the solutions on the solutions notes\n",
    "    }\n",
    "}"
   ]
  },
  {
   "cell_type": "markdown",
   "metadata": {},
   "source": [
    "5. Write a loop that computes the sum of the values in the array `arr` in the following cell:"
   ]
  },
  {
   "cell_type": "code",
   "execution_count": 32,
   "metadata": {},
   "outputs": [
    {
     "name": "stdout",
     "output_type": "stream",
     "text": [
      "[394788107, -567450917, 169677841, 748444226, -770579664, -1960271816, 1280864080, 1392469524, -1061541248, -1319862956]\n",
      "-1693462823\n"
     ]
    },
    {
     "data": {
      "text/plain": [
       "null"
      ]
     },
     "execution_count": 32,
     "metadata": {},
     "output_type": "execute_result"
    }
   ],
   "source": [
    "%classpath add jar ../resources/jar/notes.jar\n",
    "\n",
    "// Exercise 6\n",
    "\n",
    "import java.util.Arrays;\n",
    "import ca.queensu.cs.cisc124.notes.util.Utils;\n",
    "\n",
    "int[] arr = Utils.randomIntArray(10, Integer.MIN_VALUE, Integer.MAX_VALUE);\n",
    "System.out.println(Arrays.toString(arr));\n",
    "int x = 0;\n",
    "for (int i : arr){\n",
    "    x += i;\n",
    "}\n",
    "System.out.println(x);"
   ]
  },
  {
   "cell_type": "markdown",
   "metadata": {},
   "source": [
    "6. Write a loop that computes the minimum value of the values in the array `arr` in the following cell:"
   ]
  },
  {
   "cell_type": "code",
   "execution_count": 34,
   "metadata": {},
   "outputs": [
    {
     "name": "stdout",
     "output_type": "stream",
     "text": [
      "[211188859, -1727876468, -1749749023, -186847438, 1132753154, -1598705124, 1292158109, -1847659822, -322515015, 1932623880]\n",
      "-1847659822\n"
     ]
    },
    {
     "data": {
      "text/plain": [
       "null"
      ]
     },
     "execution_count": 34,
     "metadata": {},
     "output_type": "execute_result"
    }
   ],
   "source": [
    "%classpath add jar ../resources/jar/notes.jar\n",
    "\n",
    "// Exercise 6\n",
    "\n",
    "import java.util.Arrays;\n",
    "import ca.queensu.cs.cisc124.notes.util.Utils;\n",
    "\n",
    "int[] arr = Utils.randomIntArray(10, Integer.MIN_VALUE, Integer.MAX_VALUE);\n",
    "System.out.println(Arrays.toString(arr));\n",
    "int min = arr[0];\n",
    "for (int i : arr){\n",
    "    if (i <= min){\n",
    "        min = i;\n",
    "    }\n",
    "}\n",
    "System.out.println(min);"
   ]
  },
  {
   "cell_type": "markdown",
   "metadata": {},
   "source": [
    "7. Write a loop that computes the maximum value of the values in the array `arr` in the following cell:"
   ]
  },
  {
   "cell_type": "code",
   "execution_count": 36,
   "metadata": {},
   "outputs": [
    {
     "name": "stdout",
     "output_type": "stream",
     "text": [
      "[1148986050, 1290585581, -231519028, 1082732340, -987720213, 257951335, 151057342, -1466643143, 888376200, -84555152]\n",
      "1290585581\n"
     ]
    },
    {
     "data": {
      "text/plain": [
       "null"
      ]
     },
     "execution_count": 36,
     "metadata": {},
     "output_type": "execute_result"
    }
   ],
   "source": [
    "%classpath add jar ../resources/jar/notes.jar\n",
    "\n",
    "// Exercise 7\n",
    "\n",
    "import java.util.Arrays;\n",
    "import ca.queensu.cs.cisc124.notes.util.Utils;\n",
    "\n",
    "int[] arr = Utils.randomIntArray(10, Integer.MIN_VALUE, Integer.MAX_VALUE);\n",
    "System.out.println(Arrays.toString(arr));\n",
    "int max = arr[0];\n",
    "for (int i : arr){\n",
    "    if (i >= max){\n",
    "        max = i;\n",
    "    }\n",
    "}\n",
    "System.out.println(max);"
   ]
  },
  {
   "cell_type": "markdown",
   "metadata": {},
   "source": [
    "8. [COVID-19 reporting](https://coronavirus.jhu.edu/data/new-cases) commonly reports the moving average of the daily number of new confirmed cases. The moving average is used because it smooths out short-term fluctuations so that longer-term trends can be seen more easily. In a 5-day moving average, the value of the moving average on day $i$ is the average of the number of cases on days $i-2$, $i-1$, $i$, $i+1$, and $i+2$. The following cell contains the number of COVID-19 cases confirmed in Ontario from May 10 to May 19, 2020. Using a loop, compute the 5-day moving average of the number of cases for the days May 12 to May 17."
   ]
  },
  {
   "cell_type": "code",
   "execution_count": 45,
   "metadata": {},
   "outputs": [
    {
     "name": "stdout",
     "output_type": "stream",
     "text": [
      "[335.6, 373.0, 360.8, 353.0, 363.6, 367.0]\n"
     ]
    },
    {
     "data": {
      "text/plain": [
       "null"
      ]
     },
     "execution_count": 45,
     "metadata": {},
     "output_type": "execute_result"
    }
   ],
   "source": [
    "// Exercise 8\n",
    "import java.util.Arrays;\n",
    "\n",
    "int[] cases = {271, 387, 344, 309, 367, 458, 326, 305, 362, 384};\n",
    "double[] movingAvg = new double[6];\n",
    "for (int i = 2; i < (cases.length - 2); i++){\n",
    "    movingAvg[i - 2] = (cases[i - 2] + cases[i - 1] + cases[i] + cases[i + 1] + cases[i + 2]) / 5.0;\n",
    "}\n",
    "System.out.println(Arrays.toString(movingAvg));\n",
    "//make it so that it prints zeroes for the first two and the last two"
   ]
  },
  {
   "cell_type": "markdown",
   "metadata": {},
   "source": [
    "9. The [Collatz conjecture](https://en.wikipedia.org/wiki/Collatz_conjecture) is a famous and unresolved conjecture in mathematics. Write a `while` loop that evaluates the sequence from the conjecture for some starting value of `n`. In addition, print the number of times that the loop runs before stopping."
   ]
  },
  {
   "cell_type": "code",
   "execution_count": 1,
   "metadata": {},
   "outputs": [
    {
     "name": "stdout",
     "output_type": "stream",
     "text": [
      "111\n"
     ]
    },
    {
     "data": {
      "text/plain": [
       "null"
      ]
     },
     "execution_count": 1,
     "metadata": {},
     "output_type": "execute_result"
    }
   ],
   "source": [
    "// Exercise 9\n",
    "int n = 27;// try many different values of n after writing the loop\n",
    "int count = 0;\n",
    "while (n != 1){\n",
    "    if (n % 2 == 0){\n",
    "        n = n / 2;\n",
    "    }\n",
    "    else {\n",
    "        n = n * 3 + 1;\n",
    "    }\n",
    "    //System.out.print(n + \", \");\n",
    "    count += 1;\n",
    "}\n",
    "System.out.println(count);"
   ]
  },
  {
   "cell_type": "markdown",
   "metadata": {},
   "source": [
    "10. Write a loop that reverses the elements in the array `arr` (i.e., swap the first and last elements, then swap the second and second last elements, and so on)."
   ]
  },
  {
   "cell_type": "code",
   "execution_count": 8,
   "metadata": {},
   "outputs": [
    {
     "name": "stdout",
     "output_type": "stream",
     "text": [
      "[12, 40, 46, 35, 16, 19, 27, 17, 17, 48]\n",
      "[48, 17, 17, 27, 16, 19, 35, 46, 40, 12]\n"
     ]
    },
    {
     "data": {
      "text/plain": [
       "null"
      ]
     },
     "execution_count": 8,
     "metadata": {},
     "output_type": "execute_result"
    }
   ],
   "source": [
    "%classpath add jar ../resources/jar/notes.jar\n",
    "\n",
    "// Exercise 10\n",
    "\n",
    "import java.util.Arrays;\n",
    "import ca.queensu.cs.cisc124.notes.util.Utils;\n",
    "\n",
    "int[] arr = Utils.randomIntArray(10, 0, 50);\n",
    "System.out.println(Arrays.toString(arr));\n",
    "int n = arr.length / 2;\n",
    "for (int i = 0; i <= n; i++){\n",
    "    int swap = (arr.length - 1) - i;\n",
    "    int tmp = arr[i];\n",
    "    arr[i] = arr[swap];\n",
    "    arr[swap] = tmp;\n",
    "}\n",
    "System.out.println(Arrays.toString(arr));"
   ]
  },
  {
   "cell_type": "markdown",
   "metadata": {},
   "source": [
    "11. Write a loop that outputs the number of times each element of the array `arr` occurs. Do not use any Java classes to help you solve the problem. It is expected that your solution will output the count of repeated elements multiple times. *Hint: The solution requires a nested loop.*"
   ]
  },
  {
   "cell_type": "code",
   "execution_count": 5,
   "metadata": {},
   "outputs": [
    {
     "name": "stdout",
     "output_type": "stream",
     "text": [
      "[3, 4, 0, 2, 1, 2, 2, 4, 1, 3, 0, 2, 1, 1, 0, 3, 0, 1, 3, 4]\n",
      "3: 4\n",
      "4: 3\n",
      "0: 4\n",
      "2: 4\n",
      "1: 5\n",
      "2: 4\n",
      "2: 4\n",
      "4: 3\n",
      "1: 5\n",
      "3: 4\n",
      "0: 4\n",
      "2: 4\n",
      "1: 5\n",
      "1: 5\n",
      "0: 4\n",
      "3: 4\n",
      "0: 4\n",
      "1: 5\n",
      "3: 4\n",
      "4: 3\n"
     ]
    },
    {
     "data": {
      "text/plain": [
       "null"
      ]
     },
     "execution_count": 5,
     "metadata": {},
     "output_type": "execute_result"
    }
   ],
   "source": [
    "%classpath add jar ../resources/jar/notes.jar\n",
    "\n",
    "// Exercise 11\n",
    "\n",
    "import java.util.Arrays;\n",
    "import ca.queensu.cs.cisc124.notes.util.Utils;\n",
    "\n",
    "int[] arr = Utils.randomIntArray(20, 0, 5);\n",
    "System.out.println(Arrays.toString(arr));\n",
    "int count = 0;\n",
    "int item;\n",
    "for (int i = 0; i < arr.length; i++){\n",
    "    count = 0;\n",
    "    item = arr[i];\n",
    "    for (int j = 0; j < arr.length; j++){\n",
    "        if (arr[j] == arr[i]){\n",
    "            count += 1;\n",
    "        }\n",
    "    }\n",
    "    System.out.println(arr[i] + \": \" + count);\n",
    "}"
   ]
  },
  {
   "cell_type": "markdown",
   "metadata": {},
   "source": [
    "12. This is the same problem as Exercise 11 except that the array `arr` is sorted in ascending order. This time your solution should not output the count of repeated elements more than once. *Hint: The solution still requires a nested loop but you can exploit the sorted nature of the array to avoid outputting the count of a repeated element more than once.*"
   ]
  },
  {
   "cell_type": "code",
   "execution_count": null,
   "metadata": {},
   "outputs": [],
   "source": [
    "%classpath add jar ../resources/jar/notes.jar\n",
    "\n",
    "// Exercise 12\n",
    "\n",
    "import java.util.Arrays;\n",
    "import ca.queensu.cs.cisc124.notes.util.Utils;\n",
    "\n",
    "int[] arr = Utils.randomIntArray(20, 0, 5);\n",
    "Arrays.sort(arr);\n",
    "System.out.println(Arrays.toString(arr));\n"
   ]
  },
  {
   "cell_type": "markdown",
   "metadata": {},
   "source": [
    "13. Run-length encoding is a very simple compression technique that is still used in the transmission of fax messages. A run-length encoded array of integers is an array having an even number of elements (2 or greater). The elements having an even index are always greater than zero and their value represents the number of times that the element at the next index appears. For example, the compressed array `[4, 1000, 7, 1050, 21, 999, 2, -1]` represents an uncompressed array containing a sequence of 4 `1000`s, followed by a sequence of 7 `1050`s, followed by a sequence of 21 `999`s, followed by a sequence of 2 `-1`s. Write a loop that uncompresses the run-length encoded array `comp`."
   ]
  },
  {
   "cell_type": "code",
   "execution_count": 13,
   "metadata": {},
   "outputs": [
    {
     "name": "stdout",
     "output_type": "stream",
     "text": [
      "[1000, 1000, 1000, 1000, 1050, 1050, 1050, 1050, 1050, 1050, 1050, 999, 999, 999, 999, 999, 999, 999, 999, 999, 999, 999, 999, 999, 999, 999, 999, 999, 999, 999, 999, 999, -1, -1]\n"
     ]
    },
    {
     "data": {
      "text/plain": [
       "null"
      ]
     },
     "execution_count": 13,
     "metadata": {},
     "output_type": "execute_result"
    }
   ],
   "source": [
    "// Exercise 13\n",
    "import java.util.Arrays;\n",
    "\n",
    "int[] comp = {4, 1000, 7, 1050, 21, 999, 2, -1};   // the run-length encoded array\n",
    "int elNum = 0;\n",
    "for (int i = 0; i < comp.length; i++){\n",
    "    if (i % 2 == 0){\n",
    "        elNum += comp[i];\n",
    "    }\n",
    "}\n",
    "int[] decomp = new int[elNum];\n",
    "int decompIndex = 0;\n",
    "for (int j = 0; j < comp.length; j += 2){\n",
    "    int runLen = comp[j];\n",
    "    for (int k = 0; k < runLen; k++){\n",
    "        decomp[decompIndex] = comp[j + 1];\n",
    "        decompIndex++;\n",
    "    }\n",
    "}\n",
    "System.out.println(Arrays.toString(decomp));"
   ]
  },
  {
   "cell_type": "markdown",
   "metadata": {},
   "source": [
    "14. (Quite hard for CISC124) See Exercise 13. Given an uncompressed array, compute the run-length encoded version of the array."
   ]
  },
  {
   "cell_type": "code",
   "execution_count": null,
   "metadata": {},
   "outputs": [],
   "source": [
    "// Exercse 14\n",
    "//"
   ]
  },
  {
   "cell_type": "markdown",
   "metadata": {},
   "source": [
    "15. Given two positive integer values `r` and `c` write a loop that outputs a rectangle having `r` rows and `c` columns of `*`s."
   ]
  },
  {
   "cell_type": "code",
   "execution_count": 17,
   "metadata": {},
   "outputs": [
    {
     "name": "stdout",
     "output_type": "stream",
     "text": [
      "****\n",
      "****\n"
     ]
    },
    {
     "data": {
      "text/plain": [
       "null"
      ]
     },
     "execution_count": 17,
     "metadata": {},
     "output_type": "execute_result"
    }
   ],
   "source": [
    "// Exercise 15\n",
    "\n",
    "/* Should output\n",
    "\n",
    "****\n",
    "****\n",
    "\n",
    "for r = 2, c = 4\n",
    "*/\n",
    "\n",
    "// change these values to check if your solution works in general\n",
    "int r = 2;\n",
    "int c = 4;\n",
    "for (int i = 0; i < r; i++){\n",
    "    for (int j = 0; j < c; j++){\n",
    "        System.out.print(\"*\");\n",
    "    }\n",
    "    System.out.println();\n",
    "}"
   ]
  },
  {
   "cell_type": "markdown",
   "metadata": {},
   "source": [
    "16. Given two positive integer values `r` and `c` write a loop that outputs a rectangle having `r` rows and `c` columns of alternating `*`s and `-`s."
   ]
  },
  {
   "cell_type": "code",
   "execution_count": 20,
   "metadata": {},
   "outputs": [
    {
     "ename": "reached end of file while parsing",
     "evalue": "reached end of file while parsing",
     "output_type": "error",
     "traceback": [
      "\u001b[1;31mreached end of file while parsing\u001b[0;0m",
      "\u001b[1;31m }\u001b[0;0m",
      "\u001b[1;31m  ^\u001b[0;0m"
     ]
    }
   ],
   "source": [
    "// Exercise 16\n",
    "\n",
    "/* Should output\n",
    "\n",
    "*-*-\n",
    "-*-*\n",
    "\n",
    "for r = 2, c = 4\n",
    "*/\n",
    "\n",
    "// change these values to check if your solution works in general\n",
    "int r = 2;\n",
    "int c = 4;\n",
    "for (int i = 0; i < r; i++){\n",
    "    for (int j = 0; j < c; j++){\n",
    "        if (count % 2 == 0){\n",
    "            if ((i + j) % 2 == 0){\n",
    "                System.out.print(\"*\");\n",
    "            }\n",
    "            else {\n",
    "                System.out.print(\"-\");\n",
    "            }\n",
    "    }\n",
    "    System.out.println();\n",
    "}\n",
    "}"
   ]
  },
  {
   "cell_type": "code",
   "execution_count": null,
   "metadata": {},
   "outputs": [],
   "source": []
  }
 ],
 "metadata": {
  "kernelspec": {
   "display_name": "Java",
   "language": "java",
   "name": "java"
  },
  "language_info": {
   "codemirror_mode": "text/x-java",
   "file_extension": ".java",
   "mimetype": "",
   "name": "Java",
   "nbconverter_exporter": "",
   "version": "1.8.0_121"
  },
  "toc": {
   "base_numbering": 1,
   "nav_menu": {},
   "number_sections": false,
   "sideBar": false,
   "skip_h1_title": false,
   "title_cell": "Table of Contents",
   "title_sidebar": "Contents",
   "toc_cell": false,
   "toc_position": {},
   "toc_section_display": false,
   "toc_window_display": false
  }
 },
 "nbformat": 4,
 "nbformat_minor": 4
}
